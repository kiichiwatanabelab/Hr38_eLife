{
 "cells": [
  {
   "cell_type": "markdown",
   "id": "e8ffd42a-fdad-4b5c-b7c6-93da54bd8405",
   "metadata": {},
   "source": [
    "**This notebook presents code associated with Figure 3-Supplement of the following paper.**  \n",
    ">Kiichi Watanabe, Hui Chiu, David J. Anderson. \"Whole brain in situ mapping of neuronal activation in Drosophila during social behaviors and optogenetic stimulation\" eLife (2024) (https://doi.org/10.7554/eLife.92380)  \n",
    "  \n",
    "**The data**  \n",
    "The data set (.csv) contains pooled fluorescent intensity data from multiple individual flies.\n",
    "The jGCaMP7b signal was recorded from either 0273_GAL4 or OK107-GAL4 positive neurons with optogenetic activation of P1 neurons at 1Hz. ROIs were defined manually, and fluorescence intensity was measured using Fiji/ImageJ. Please also refer to the Materials and Methods section of the paper."
   ]
  },
  {
   "cell_type": "code",
   "execution_count": null,
   "id": "6361a27c-b8da-4561-b14d-4eac58277792",
   "metadata": {},
   "outputs": [],
   "source": [
    "%matplotlib inline\n",
    "import pandas as pd\n",
    "import numpy as np\n",
    "import matplotlib.pyplot as plt\n",
    "import seaborn as sns\n",
    "from scipy import stats"
   ]
  },
  {
   "cell_type": "markdown",
   "id": "68a7a05c-fecd-40e8-9de3-34c99750d53b",
   "metadata": {},
   "source": [
    "**Create a DataFrame for analysis.**  \n",
    "The response to 3 repetitive photo-stimulation was recorded. \n",
    "The baseline fluorescence signal (F) was calculated by averaging the jGCaMP7b signal 30 sec before the 1st photo-stimulation.  "
   ]
  },
  {
   "cell_type": "code",
   "execution_count": null,
   "id": "832662f1-cc3b-48ea-94af-4b116b376d68",
   "metadata": {},
   "outputs": [],
   "source": [
    "# Load the CSV file into a DataFrame\n",
    "df = pd.read_csv('specify the path to .csv file', index_col=0)  # Update the path as needed"
   ]
  },
  {
   "cell_type": "code",
   "execution_count": null,
   "id": "88388d35-e90d-455e-8743-a39564ebd949",
   "metadata": {},
   "outputs": [],
   "source": [
    "# Set baseline window size for dF/F0 calculation\n",
    "baseline_window = 30"
   ]
  },
  {
   "cell_type": "markdown",
   "id": "91e48e58-8a1f-40ab-af16-2ecb64c9a537",
   "metadata": {},
   "source": [
    "**Calculate dF/F over time and draw a dF/F graph (mean±SEM).**  \n"
   ]
  },
  {
   "cell_type": "code",
   "execution_count": null,
   "id": "c74ef738-68b1-48d6-b45e-5dc4064bfaeb",
   "metadata": {},
   "outputs": [],
   "source": [
    "# Calculate mean across the first 30 rows and normalize\n",
    "means = df.iloc[:baseline_window].mean()\n",
    "df_F = (df - means) / means  # Calculate dF/F0\n",
    "\n",
    "# Calculate mean and SEM across columns for each time point\n",
    "mean_values = df_F.mean(axis=1)\n",
    "sem_values = df_F.sem(axis=1)\n",
    "\n",
    "# Create a plot DataFrame for easier plotting\n",
    "plot_df = pd.DataFrame({'Time': df_F.index, 'Mean': mean_values, 'SEM': sem_values})\n",
    "\n",
    "# Plot dF/F0 over time with SEM shaded area\n",
    "plt.figure(figsize=(10, 6))\n",
    "sns.lineplot(x='Time', y='Mean', data=plot_df)\n",
    "plt.fill_between(plot_df['Time'], plot_df['Mean'] - plot_df['SEM'], plot_df['Mean'] + plot_df['SEM'], alpha=0.3)\n",
    "plt.xticks(ticks=range(0, int(plot_df['Time'].max()) + baseline_window, baseline_window))  # Set x-axis ticks at intervals of 30\n",
    "plt.xlabel('Time (s)')\n",
    "plt.ylabel('dF/F0')\n",
    "plt.title('Average dF/F with SEM')\n",
    "plt.show()"
   ]
  },
  {
   "cell_type": "markdown",
   "id": "bf47d037-1a40-4f09-8cb9-f2c17051cd51",
   "metadata": {},
   "source": [
    "**Compare average dF/F before and after Photostimulaton (for each stimulation).**  \n",
    "1) calculate average dF/F (during each period) for each individual fly.  \n",
    "2) then, calculate average of averages from different individual flies.  "
   ]
  },
  {
   "cell_type": "code",
   "execution_count": null,
   "id": "04177e56-1279-4c36-957c-31d89a642c72",
   "metadata": {},
   "outputs": [],
   "source": [
    "# Define time periods and calculate mean dF/F0 for each time period\n",
    "time_periods = {\n",
    "    'Pre': df_F.iloc[0:30],\n",
    "    'PS1': df_F.iloc[30:60],\n",
    "    'Int1': df_F.iloc[60:90],\n",
    "    'PS2': df_F.iloc[90:120],\n",
    "    'Int2': df_F.iloc[120:150],\n",
    "    'PS3': df_F.iloc[150:180],\n",
    "    'Post': df_F.iloc[180:210]\n",
    "}\n",
    "\n",
    "# Calculate mean dF/F0 for each time period and create a DataFrame for plotting\n",
    "df_means = pd.DataFrame({period: data.mean() for period, data in time_periods.items()})\n",
    "df_melt = df_means.melt(var_name='Time_Period', value_name='Mean_dF/F0')\n",
    "\n",
    "# Box plot of average dF/F0 by time period\n",
    "plt.figure(figsize=(10, 6))\n",
    "sns.boxplot(x='Time_Period', y='Mean_dF/F0', data=df_melt, color='gray')\n",
    "plt.xlabel('Time Periods')\n",
    "plt.ylabel('Average dF/F')\n",
    "plt.title('Mean dF/F0 by Time Period')\n",
    "plt.show()"
   ]
  },
  {
   "cell_type": "code",
   "execution_count": null,
   "id": "38b235de-26af-41fb-afdc-618f2a431d08",
   "metadata": {},
   "outputs": [],
   "source": [
    "# Calculate the mean dF/F for each neuron within each time period\n",
    "time_periods = {\n",
    "    'Pre': df_F.iloc[0:30].mean(axis=0),\n",
    "    'PS1': df_F.iloc[30:60].mean(axis=0),\n",
    "    'Int1': df_F.iloc[60:90].mean(axis=0),\n",
    "    'PS2': df_F.iloc[90:120].mean(axis=0),\n",
    "    'Int2': df_F.iloc[120:150].mean(axis=0),\n",
    "    'PS3': df_F.iloc[150:180].mean(axis=0),\n",
    "    'Post': df_F.iloc[180:210].mean(axis=0)\n",
    "}\n",
    "\n",
    "# Mann-Whitney U tests between specific time periods\n",
    "def mann_whitney_test(period1_data, period2_data, period1_label, period2_label):\n",
    "    result = stats.mannwhitneyu(period1_data, period2_data, method=\"asymptotic\", alternative=\"less\")\n",
    "    print(f'{period1_label} vs {period2_label}: p-value = {result.pvalue}')\n",
    "\n",
    "# Perform tests using mean dF/F across neurons\n",
    "mann_whitney_test(time_periods['Pre'], time_periods['PS1'], 'Pre', 'PS1')\n",
    "mann_whitney_test(time_periods['Int1'], time_periods['PS2'], 'Int1', 'PS2')\n",
    "mann_whitney_test(time_periods['Int2'], time_periods['PS3'], 'Int2', 'PS3')"
   ]
  }
 ],
 "metadata": {
  "kernelspec": {
   "display_name": "Python 3 (ipykernel)",
   "language": "python",
   "name": "python3"
  },
  "language_info": {
   "codemirror_mode": {
    "name": "ipython",
    "version": 3
   },
   "file_extension": ".py",
   "mimetype": "text/x-python",
   "name": "python",
   "nbconvert_exporter": "python",
   "pygments_lexer": "ipython3",
   "version": "3.9.20"
  }
 },
 "nbformat": 4,
 "nbformat_minor": 5
}
